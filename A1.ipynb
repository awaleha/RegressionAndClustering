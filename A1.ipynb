{
 "cells": [
  {
   "cell_type": "markdown",
   "metadata": {},
   "source": [
    "# CPS 840 / CP 8318\n",
    "# Assignment 1 - [Awale Hassan] - [500704868]\n",
    "## Part 1 [20 Marks]"
   ]
  },
  {
   "cell_type": "markdown",
   "metadata": {},
   "source": [
    "[6 Marks] \n",
    "# a\n",
    "\n",
    "Write a simple implementation of a least-squares solution to linear regression that applies an iterative update to adjust the weights. Demonstrate the success of your approach on the sample data loaded below, and visualize the best fit plotted as a line (consider using linspace) against a scatter plot of the x and y test values.\n"
   ]
  },
  {
   "cell_type": "code",
   "execution_count": 4,
   "metadata": {},
   "outputs": [],
   "source": [
    "from sklearn import datasets, linear_model\n",
    "from sklearn.metrics import mean_squared_error, r2_score\n",
    "import numpy as np\n",
    "\n",
    "# Load the diabetes dataset\n",
    "diabetes = datasets.load_diabetes()\n",
    "\n",
    "\n",
    "# Use only one feature\n",
    "diabetes_X = diabetes.data[:, np.newaxis, 2]\n",
    "\n",
    "# Split the data into training/testing sets\n",
    "diabetes_X_train = diabetes_X[:-20] #everything but last twenty\n",
    "diabetes_X_test = diabetes_X[-20:] #last twenty items\n",
    "\n",
    "# Split the targets into training/testing sets\n",
    "diabetes_y_train = diabetes.target[:-20]\n",
    "diabetes_y_test = diabetes.target[-20:]\n",
    "\n",
    "\n"
   ]
  },
  {
   "cell_type": "code",
   "execution_count": 5,
   "metadata": {},
   "outputs": [
    {
     "name": "stdout",
     "output_type": "stream",
     "text": [
      "Coefficients: \n",
      " [938.23786125]\n",
      "Mean squared error: 2548.07\n",
      "Variance score: 0.47\n"
     ]
    },
    {
     "data": {
      "image/png": "[encoded data removed]",
      "text/plain": [
       "<Figure size 432x288 with 1 Axes>"
      ]
     },
     "metadata": {},
     "output_type": "display_data"
    }
   ],
   "source": [
    "##### YOUR CODE HERE #######\n",
    "\n",
    "\n",
    "%matplotlib inline\n",
    "import matplotlib.pyplot as plt\n",
    "plt.style.use('seaborn-whitegrid')\n",
    "import numpy as np\n",
    "\n",
    "def abline(slope, intercept):\n",
    "    \"\"\"Plot a line from slope and intercept\"\"\"\n",
    "    axes = plt.gca()\n",
    "    x_vals = np.array(axes.get_xlim())\n",
    "    y_vals = intercept + slope * x_vals\n",
    "    plt.plot(x_vals, y_vals, '--')\n",
    "\n",
    "\n",
    "xMean = sum(diabetes_X_train)/len(diabetes_X_train)\n",
    "yMean = sum(diabetes_y_train)/len(diabetes_y_train)\n",
    "regPoint= [xMean,yMean]\n",
    "xTrainMinusMean = list(map(lambda x:x - xMean, diabetes_X_train))\n",
    "yTrainMinusMean = list(map(lambda y:y - yMean, diabetes_y_train))\n",
    "xTrainMinusMeanSquare = list(map(lambda f:f**2,xTrainMinusMean))\n",
    "b1 = (sum(xTrainMinusMean)*sum(yTrainMinusMean)) / sum(xTrainMinusMeanSquare)\n",
    "b0 = yMean - (b1*xMean)\n",
    "\n",
    "x = np.linspace(0, 10, 30)\n",
    "y = np.sin(x)\n",
    "\n",
    "#Up to here has been my own code, essentially defining the equation y = b0 + b1x, where y = yMean and x = xMean\n",
    "\n",
    "#This is code taken from the scikit-learn api, defining what should actually happen\n",
    "# Create linear regression object\n",
    "regr = linear_model.LinearRegression()\n",
    "\n",
    "# Train the model using the training sets\n",
    "regr.fit(diabetes_X_train, diabetes_y_train)\n",
    "\n",
    "# Make predictions using the testing set\n",
    "diabetes_y_pred = regr.predict(diabetes_X_test)\n",
    "\n",
    "# The coefficients\n",
    "print('Coefficients: \\n', regr.coef_)\n",
    "# The mean squared error\n",
    "print(\"Mean squared error: %.2f\"\n",
    "      % mean_squared_error(diabetes_y_test, diabetes_y_pred))\n",
    "# Explained variance score: 1 is perfect prediction\n",
    "print('Variance score: %.2f' % r2_score(diabetes_y_test, diabetes_y_pred))\n",
    "\n",
    "# Plot outputs\n",
    "plt.scatter(diabetes_X_test, diabetes_y_test,  color='black')\n",
    "plt.plot(diabetes_X_test, diabetes_y_pred, color='blue', linewidth=3)\n",
    "\n",
    "plt.xticks(())\n",
    "plt.yticks(())\n",
    "\n",
    "plt.show()\n",
    "\n",
    "\n",
    "\n",
    "\n"
   ]
  },
  {
   "cell_type": "markdown",
   "metadata": {},
   "source": [
    "[2 Marks]\n",
    "# b"
   ]
  },
  {
   "cell_type": "markdown",
   "metadata": {},
   "source": [
    "Load data on movie ratings, revenue, metadata etc. Split data into a relevant set for training, testing and classification. Explain your choice of split. It is ok if you decide to split into these subsets after part c -> if you do so, mention this at the end of your explanation.\n",
    "\n",
    "Explanation: Removed all values where revenue = 0.0 as that could very easily scew our results.\n"
   ]
  },
  {
   "cell_type": "code",
   "execution_count": 6,
   "metadata": {},
   "outputs": [],
   "source": [
    "### An example to load a csv file\n",
    "import pandas as pd \n",
    "import numpy as np\n",
    "from ast import literal_eval\n",
    "meta_data=pd.read_csv('movies_metadata.csv', low_memory=False) # You may wish to specify types, or process columns once read\n",
    "ratings_small=pd.read_csv('ratings_small.csv')\n",
    "import warnings; warnings.simplefilter('ignore')\n",
    "\n",
    "##### YOUR CODE HERE #######\n",
    "#defined down below\n",
    "\n"
   ]
  },
  {
   "cell_type": "markdown",
   "metadata": {},
   "source": [
    "[5 Marks]\n",
    "# c"
   ]
  },
  {
   "cell_type": "markdown",
   "metadata": {},
   "source": [
    "Organize the data into relevant features for predicting revenue. <br>\n",
    "i.  Explain your feature sets and organization. <br>\n",
    "\n",
    "Removed any non-numerical value for features. Kept budget and popularity from movie metadata.  \n",
    "\n",
    "ii. Plot movie revenue vs. rating as a scatter plot and discuss your findings. <br>\n",
    "\n",
    "It appears that movies with a rating between 6 and 8 make the most revenue, while movies outside of that range tend to make much less. \n",
    "\n",
    "iii. Visualize any other relationships you deem interesting and explain. <br>\n",
    "\n",
    "It appears that, over time movies are generating more revenue, as shown by the revenue/years scatterplot. \n"
   ]
  },
  {
   "cell_type": "code",
   "execution_count": 21,
   "metadata": {},
   "outputs": [
    {
     "name": "stdout",
     "output_type": "stream",
     "text": [
      "          budget                                             genres      id  \\\n",
      "0       30000000                        [Animation, Comedy, Family]     862   \n",
      "1       65000000                       [Adventure, Fantasy, Family]    8844   \n",
      "3       16000000                           [Comedy, Drama, Romance]   31357   \n",
      "4              0                                           [Comedy]   11862   \n",
      "5       60000000                   [Action, Crime, Drama, Thriller]     949   \n",
      "8       35000000                      [Action, Adventure, Thriller]    9091   \n",
      "9       58000000                      [Adventure, Action, Thriller]     710   \n",
      "10      62000000                           [Comedy, Drama, Romance]    9087   \n",
      "12             0                     [Family, Animation, Adventure]   21032   \n",
      "13      44000000                                   [History, Drama]   10858   \n",
      "14      98000000                                [Action, Adventure]    1408   \n",
      "15      52000000                                     [Drama, Crime]     524   \n",
      "16      16500000                                   [Drama, Romance]    4584   \n",
      "17       4000000                                    [Crime, Comedy]       5   \n",
      "18      30000000                         [Crime, Comedy, Adventure]    9273   \n",
      "19      60000000                            [Action, Comedy, Crime]   11517   \n",
      "20      30250000                          [Comedy, Thriller, Crime]    8012   \n",
      "22      50000000               [Action, Adventure, Crime, Thriller]    9691   \n",
      "24       3600000                                   [Drama, Romance]     451   \n",
      "26      12000000                            [Comedy, Drama, Family]    9263   \n",
      "28      18000000              [Fantasy, Science Fiction, Adventure]     902   \n",
      "30             0                                     [Drama, Crime]    9909   \n",
      "31      29500000               [Science Fiction, Thriller, Mystery]      63   \n",
      "33      30000000                   [Fantasy, Drama, Comedy, Family]    9598   \n",
      "35      11000000                                            [Drama]     687   \n",
      "39             0                                            [Drama]   34615   \n",
      "43      18000000                                  [Action, Fantasy]    9312   \n",
      "44      20000000                 [Fantasy, Drama, Comedy, Thriller]     577   \n",
      "45      10000000                                   [Drama, Romance]   11861   \n",
      "46      33000000                         [Crime, Mystery, Thriller]     807   \n",
      "...          ...                                                ...     ...   \n",
      "44791    8520000                            [Action, Drama, Comedy]  434119   \n",
      "44812          0                             [Adventure, Animation]  366170   \n",
      "44818          0                                      [Documentary]  411012   \n",
      "44821   16000000    [Adventure, Fantasy, Animation, Action, Family]   10991   \n",
      "44826          0  [Adventure, Fantasy, Animation, Science Fictio...   12600   \n",
      "44842  260000000     [Action, Science Fiction, Thriller, Adventure]  335988   \n",
      "44844          0                                           [Comedy]  123229   \n",
      "44848    2000000                                    [Comedy, Drama]  159447   \n",
      "44850    2000000                                           [Comedy]   75438   \n",
      "44856    3000000                                  [Comedy, Romance]   57701   \n",
      "44888          0                                            [Drama]  408024   \n",
      "44904          0                           [Drama, Thriller, Crime]  429200   \n",
      "44947          0                                     [Crime, Drama]   29458   \n",
      "44956          0                                  [Drama, Thriller]  269795   \n",
      "44970    2196531                                  [Comedy, Romance]   26147   \n",
      "45014   60000000  [Action, Western, Science Fiction, Fantasy, Ho...  353491   \n",
      "45063          0                                          [Romance]  290217   \n",
      "45093          0                                            [Drama]  152155   \n",
      "45139   50000000                        [Comedy, Family, Animation]  378236   \n",
      "45167   11000000                 [Action, Crime, Mystery, Thriller]  395834   \n",
      "45238          0             [Adventure, Animation, Comedy, Family]  423453   \n",
      "45248          0                                           [Action]   49074   \n",
      "45250   12000000                            [Action, Comedy, Drama]   24049   \n",
      "45265          0                                    [Comedy, Drama]  265189   \n",
      "45381          0                        [Horror, Thriller, Mystery]  264269   \n",
      "45399     750000                                    [Crime, Comedy]  280422   \n",
      "45401          0                          [Drama, History, Mystery]  240789   \n",
      "45409     800000                                    [Comedy, Drama]   62757   \n",
      "45412    2000000                                   [Romance, Drama]   63281   \n",
      "45422    5000000                   [Action, Comedy, Crime, Foreign]   63898   \n",
      "\n",
      "      popularity release_date      revenue  runtime  vote_average  vote_count  \\\n",
      "0      21.946943   1995-10-30  373554033.0     81.0           7.7      5415.0   \n",
      "1      17.015539   1995-12-15  262797249.0    104.0           6.9      2413.0   \n",
      "3       3.859495   1995-12-22   81452156.0    127.0           6.1        34.0   \n",
      "4       8.387519   1995-02-10   76578911.0    106.0           5.7       173.0   \n",
      "5      17.924927   1995-12-15  187436818.0    170.0           7.7      1886.0   \n",
      "8        5.23158   1995-12-22   64350171.0    106.0           5.5       174.0   \n",
      "9      14.686036   1995-11-16  352194034.0    130.0           6.6      1194.0   \n",
      "10      6.318445   1995-11-17  107879496.0    106.0           6.5       199.0   \n",
      "12     12.140733   1995-12-22   11348324.0     78.0           7.1       423.0   \n",
      "13         5.092   1995-12-22   13681765.0    192.0           7.1        72.0   \n",
      "14      7.284477   1995-12-22   10017322.0    119.0           5.7       137.0   \n",
      "15     10.137389   1995-11-22  116112375.0    178.0           7.8      1343.0   \n",
      "16     10.673167   1995-12-13  135000000.0    136.0           7.2       364.0   \n",
      "17      9.026586   1995-12-09    4300000.0     98.0           6.5       539.0   \n",
      "18      8.205448   1995-11-10  212385533.0     90.0           6.1      1128.0   \n",
      "19      7.337906   1995-11-21   35431113.0    103.0           5.4       224.0   \n",
      "20     12.669608   1995-10-20  115101622.0    105.0           6.4       305.0   \n",
      "22     11.065939   1995-10-06   30303072.0    132.0           6.0       394.0   \n",
      "24     10.332025   1995-10-27   49800000.0    112.0           7.1       365.0   \n",
      "26      8.681325   1995-10-20   27400000.0    100.0           6.6        91.0   \n",
      "28      9.822423   1995-05-16    1738611.0    108.0           7.6       308.0   \n",
      "30      9.481338   1995-08-11  180000000.0     99.0           6.4       249.0   \n",
      "31     12.297305   1995-12-29  168840000.0    129.0           7.4      2470.0   \n",
      "33     14.404764   1995-07-18  254134910.0     89.0           6.0       756.0   \n",
      "35      6.891317   1995-12-29   39363635.0    122.0           7.3       350.0   \n",
      "39      0.894647   1995-12-15     676525.0    106.0           6.7        13.0   \n",
      "43     10.870138   1995-08-18  122195920.0    101.0           5.4       452.0   \n",
      "44     10.448481   1995-05-20   21284514.0    106.0           6.7       177.0   \n",
      "45      4.485958   1995-10-06   23574130.0    116.0           6.5        38.0   \n",
      "46      18.45743   1995-09-22  327311859.0    127.0           8.1      5915.0   \n",
      "...          ...          ...          ...      ...           ...         ...   \n",
      "44791    1.75859   2017-01-18   56100000.0    125.0           6.2         5.0   \n",
      "44812    3.23574   2016-04-23    1015339.0    120.0           6.8        29.0   \n",
      "44818   0.519968   2017-04-14     393970.0     99.0           8.0         2.0   \n",
      "44821   6.480376   2000-07-08   68411275.0     93.0           6.0       144.0   \n",
      "44826   6.080108   2001-07-06   28023563.0     75.0           5.7        82.0   \n",
      "44842  39.186819   2017-06-21  604942143.0    149.0           6.2      1440.0   \n",
      "44844   9.754955   2012-07-11     103504.0     98.0           5.4        92.0   \n",
      "44848   1.456046   2012-12-27   11666088.0     90.0           5.3         9.0   \n",
      "44850   0.397106   2011-07-21    8000000.0     81.0           3.1         7.0   \n",
      "44856   0.445269   2011-02-03    1957000.0     90.0           4.7         3.0   \n",
      "44888   2.404466   2016-08-17     126463.0     89.0           6.1        24.0   \n",
      "44904   5.798555   2017-08-11   10893246.0     99.0           7.3        46.0   \n",
      "44947    4.67525   2000-08-31    1805884.0    114.0           7.8       116.0   \n",
      "44956  37.484577   2017-06-29        422.0     99.0           5.5       277.0   \n",
      "44970   0.947509   2005-12-30    2411594.0    107.0           5.6        10.0   \n",
      "45014  50.903593   2017-08-03   71000000.0     95.0           5.7       688.0   \n",
      "45063      0.504   2014-04-25   76000000.0      0.0           6.0         4.0   \n",
      "45093   0.181963   2012-12-09      14353.0     72.0           5.7         3.0   \n",
      "45139  33.694599   2017-07-28   66913939.0     86.0           5.8       327.0   \n",
      "45167  40.796775   2017-08-03  184770205.0    111.0           7.4       181.0   \n",
      "45238   8.665106   2017-02-01    7800000.0     86.0           5.4        43.0   \n",
      "45248   0.704162   1995-01-15   15000000.0    145.0           7.8        14.0   \n",
      "45250   1.323587   2007-06-14   19000000.0    185.0           6.9        25.0   \n",
      "45265  12.165685   2014-08-15    1359497.0    118.0           6.8       255.0   \n",
      "45381   0.217441   2014-03-13     320395.0     90.0           4.4         4.0   \n",
      "45399   0.201582   2014-06-05          3.0      0.0           6.0         4.0   \n",
      "45401   0.436028   2009-10-09      50656.0    110.0           6.3         3.0   \n",
      "45409   0.903061   2006-11-23    1328612.0    100.0           5.8         6.0   \n",
      "45412   0.121844   2010-09-30    1268793.0    107.0           4.0         3.0   \n",
      "45422   0.039793   2007-09-06    1413000.0     91.0           1.0         1.0   \n",
      "\n",
      "       year  \n",
      "0      1995  \n",
      "1      1995  \n",
      "3      1995  \n",
      "4      1995  \n",
      "5      1995  \n",
      "8      1995  \n",
      "9      1995  \n",
      "10     1995  \n",
      "12     1995  \n",
      "13     1995  \n",
      "14     1995  \n",
      "15     1995  \n",
      "16     1995  \n",
      "17     1995  \n",
      "18     1995  \n",
      "19     1995  \n",
      "20     1995  \n",
      "22     1995  \n",
      "24     1995  \n",
      "26     1995  \n",
      "28     1995  \n",
      "30     1995  \n",
      "31     1995  \n",
      "33     1995  \n",
      "35     1995  \n",
      "39     1995  \n",
      "43     1995  \n",
      "44     1995  \n",
      "45     1995  \n",
      "46     1995  \n",
      "...     ...  \n",
      "44791  2017  \n",
      "44812  2016  \n",
      "44818  2017  \n",
      "44821  2000  \n",
      "44826  2001  \n",
      "44842  2017  \n",
      "44844  2012  \n",
      "44848  2012  \n",
      "44850  2011  \n",
      "44856  2011  \n",
      "44888  2016  \n",
      "44904  2017  \n",
      "44947  2000  \n",
      "44956  2017  \n",
      "44970  2005  \n",
      "45014  2017  \n",
      "45063  2014  \n",
      "45093  2012  \n",
      "45139  2017  \n",
      "45167  2017  \n",
      "45238  2017  \n",
      "45248  1995  \n",
      "45250  2007  \n",
      "45265  2014  \n",
      "45381  2014  \n",
      "45399  2014  \n",
      "45401  2009  \n",
      "45409  2006  \n",
      "45412  2010  \n",
      "45422  2007  \n",
      "\n",
      "[7413 rows x 10 columns]\n",
      "\n",
      "X_train\n",
      "\n",
      "         budget                                             genres     id  \\\n",
      "13002         0                                           [Comedy]  10078   \n",
      "14556  85000000                                  [Comedy, Romance]  22897   \n",
      "2079   13000000                                     [Music, Drama]   3682   \n",
      "9907          0                                           [Comedy]  44181   \n",
      "4364    2000000  [Action, Comedy, Horror, Science Fiction, Thri...   3980   \n",
      "\n",
      "      popularity release_date  runtime  vote_average  vote_count  year  \n",
      "13002   6.478953   2007-05-18     90.0           6.2        25.0  2007  \n",
      "14556   9.083133   2009-12-23    121.0           6.2       370.0  2009  \n",
      "2079    8.736869   1998-08-28    106.0           5.5       138.0  1998  \n",
      "9907    0.625659   2003-06-15     90.0           3.1         7.0  2003  \n",
      "4364   10.113807   1986-04-11     82.0           5.9       221.0  1986  \n",
      "\n",
      "Y_train\n",
      "\n",
      "13002      1752038.0\n",
      "14556    219103655.0\n",
      "2079      16757163.0\n",
      "9907        527000.0\n",
      "4364      13167232.0\n",
      "Name: revenue, dtype: float64\n"
     ]
    },
    {
     "data": {
      "image/png": "[encoded data removed]",
      "text/plain": [
       "<Figure size 432x288 with 1 Axes>"
      ]
     },
     "metadata": {},
     "output_type": "display_data"
    }
   ],
   "source": [
    "#meta_data.head(1)\n",
    "#The following line is one way of cleaning up the genres field - there are more verbose ways of doing this that are easier for a human to read\n",
    "#meta_data.head()\n",
    "# Consider how to columns look before and after this 'clean-up' - it is very common to have to massage the data to get the right features\n",
    "\n",
    "##### YOUR CODE HERE #######\n",
    "\n",
    "import pandas as pd \n",
    "import numpy as np\n",
    "from ast import literal_eval\n",
    "meta_data=pd.read_csv('movies_metadata.csv', low_memory=False) # You may wish to specify types, or process columns once read\n",
    "ratings_small=pd.read_csv('ratings_small.csv')\n",
    "import warnings; warnings.simplefilter('ignore')\n",
    "from sklearn.model_selection import train_test_split\n",
    "\n",
    "meta_data['genres'] = meta_data['genres'].fillna('[]').apply(literal_eval).apply(lambda x: [i['name'] for i in x] if isinstance(x, list) else [])\n",
    "meta_data['year'] = pd.to_datetime(meta_data['release_date'], errors='coerce').apply(lambda x: str(x).split('-')[0] if x != np.nan else np.nan)\n",
    "\n",
    "\n",
    "%matplotlib inline\n",
    "import matplotlib.pyplot as plt\n",
    "import matplotlib.pyplot as pplt\n",
    "plt.style.use('seaborn-whitegrid')\n",
    "import numpy as np\n",
    "meta_data = meta_data.drop(columns=['adult',\"belongs_to_collection\",\"homepage\",\"imdb_id\",\"original_language\",\"original_title\",\"overview\",\"poster_path\",\"production_companies\",\"production_countries\",\"spoken_languages\",\"status\",\"tagline\",\"title\",\"video\"])\n",
    "meta_data = meta_data[meta_data.revenue != 0.0]\n",
    "meta_data = meta_data[meta_data.budget != '/zaSf5OG7V8X8gqFvly88zDdRm46.jpg']\n",
    "print(meta_data)\n",
    "plt.scatter(meta_data.vote_average, meta_data.revenue,  color='black')\n",
    "#plt.scatter(meta_data.vote_average, meta_data.year,  color='black')\n",
    "y = meta_data.revenue\n",
    "X = meta_data.drop(columns=[\"revenue\"])\n",
    "\n",
    "X_train, X_test, y_train, y_test = train_test_split(X, y, test_size=0.2)\n",
    "print(\"\\nX_train\\n\")\n",
    "print(X_train.head())\n",
    "print(\"\\nY_train\\n\")\n",
    "print(y_train.head())\n",
    "\n",
    "\n",
    "\n",
    "\n"
   ]
  },
  {
   "cell_type": "code",
   "execution_count": null,
   "metadata": {},
   "outputs": [],
   "source": []
  },
  {
   "cell_type": "markdown",
   "metadata": {},
   "source": [
    "[3 Marks]\n",
    "# d"
   ]
  },
  {
   "cell_type": "markdown",
   "metadata": {},
   "source": [
    "Train a regression model to predict movie revenue. Plot predicted revenue vs. actual revenue on the test set. Quantify the error in your prediction. (You may use sklearn for this step)"
   ]
  },
  {
   "cell_type": "code",
   "execution_count": 22,
   "metadata": {},
   "outputs": [
    {
     "ename": "ValueError",
     "evalue": "could not convert string to float: '/zV8bHuSL6WXoD6FWogP9j4x80bL.jpg'",
     "output_type": "error",
     "traceback": [
      "\u001b[0;31m---------------------------------------------------------------------------\u001b[0m",
      "\u001b[0;31mValueError\u001b[0m                                Traceback (most recent call last)",
      "\u001b[0;32m<ipython-input-22-c59a61c679e0>\u001b[0m in \u001b[0;36m<module>\u001b[0;34m()\u001b[0m\n\u001b[1;32m      8\u001b[0m \u001b[0;34m\u001b[0m\u001b[0m\n\u001b[1;32m      9\u001b[0m \u001b[0mregr\u001b[0m \u001b[0;34m=\u001b[0m \u001b[0mLinearRegression\u001b[0m\u001b[0;34m(\u001b[0m\u001b[0;34m)\u001b[0m\u001b[0;34m\u001b[0m\u001b[0m\n\u001b[0;32m---> 10\u001b[0;31m \u001b[0mregr\u001b[0m\u001b[0;34m.\u001b[0m\u001b[0mfit\u001b[0m\u001b[0;34m(\u001b[0m\u001b[0mX_train\u001b[0m\u001b[0;34m.\u001b[0m\u001b[0mbudget\u001b[0m\u001b[0;34m,\u001b[0m \u001b[0my_train\u001b[0m\u001b[0;34m)\u001b[0m\u001b[0;34m\u001b[0m\u001b[0m\n\u001b[0m",
      "\u001b[0;32m/anaconda3/lib/python3.7/site-packages/sklearn/linear_model/base.py\u001b[0m in \u001b[0;36mfit\u001b[0;34m(self, X, y, sample_weight)\u001b[0m\n\u001b[1;32m    480\u001b[0m         \u001b[0mn_jobs_\u001b[0m \u001b[0;34m=\u001b[0m \u001b[0mself\u001b[0m\u001b[0;34m.\u001b[0m\u001b[0mn_jobs\u001b[0m\u001b[0;34m\u001b[0m\u001b[0m\n\u001b[1;32m    481\u001b[0m         X, y = check_X_y(X, y, accept_sparse=['csr', 'csc', 'coo'],\n\u001b[0;32m--> 482\u001b[0;31m                          y_numeric=True, multi_output=True)\n\u001b[0m\u001b[1;32m    483\u001b[0m \u001b[0;34m\u001b[0m\u001b[0m\n\u001b[1;32m    484\u001b[0m         \u001b[0;32mif\u001b[0m \u001b[0msample_weight\u001b[0m \u001b[0;32mis\u001b[0m \u001b[0;32mnot\u001b[0m \u001b[0;32mNone\u001b[0m \u001b[0;32mand\u001b[0m \u001b[0mnp\u001b[0m\u001b[0;34m.\u001b[0m\u001b[0matleast_1d\u001b[0m\u001b[0;34m(\u001b[0m\u001b[0msample_weight\u001b[0m\u001b[0;34m)\u001b[0m\u001b[0;34m.\u001b[0m\u001b[0mndim\u001b[0m \u001b[0;34m>\u001b[0m \u001b[0;36m1\u001b[0m\u001b[0;34m:\u001b[0m\u001b[0;34m\u001b[0m\u001b[0m\n",
      "\u001b[0;32m/anaconda3/lib/python3.7/site-packages/sklearn/utils/validation.py\u001b[0m in \u001b[0;36mcheck_X_y\u001b[0;34m(X, y, accept_sparse, dtype, order, copy, force_all_finite, ensure_2d, allow_nd, multi_output, ensure_min_samples, ensure_min_features, y_numeric, warn_on_dtype, estimator)\u001b[0m\n\u001b[1;32m    571\u001b[0m     X = check_array(X, accept_sparse, dtype, order, copy, force_all_finite,\n\u001b[1;32m    572\u001b[0m                     \u001b[0mensure_2d\u001b[0m\u001b[0;34m,\u001b[0m \u001b[0mallow_nd\u001b[0m\u001b[0;34m,\u001b[0m \u001b[0mensure_min_samples\u001b[0m\u001b[0;34m,\u001b[0m\u001b[0;34m\u001b[0m\u001b[0m\n\u001b[0;32m--> 573\u001b[0;31m                     ensure_min_features, warn_on_dtype, estimator)\n\u001b[0m\u001b[1;32m    574\u001b[0m     \u001b[0;32mif\u001b[0m \u001b[0mmulti_output\u001b[0m\u001b[0;34m:\u001b[0m\u001b[0;34m\u001b[0m\u001b[0m\n\u001b[1;32m    575\u001b[0m         y = check_array(y, 'csr', force_all_finite=True, ensure_2d=False,\n",
      "\u001b[0;32m/anaconda3/lib/python3.7/site-packages/sklearn/utils/validation.py\u001b[0m in \u001b[0;36mcheck_array\u001b[0;34m(array, accept_sparse, dtype, order, copy, force_all_finite, ensure_2d, allow_nd, ensure_min_samples, ensure_min_features, warn_on_dtype, estimator)\u001b[0m\n\u001b[1;32m    431\u001b[0m                                       force_all_finite)\n\u001b[1;32m    432\u001b[0m     \u001b[0;32melse\u001b[0m\u001b[0;34m:\u001b[0m\u001b[0;34m\u001b[0m\u001b[0m\n\u001b[0;32m--> 433\u001b[0;31m         \u001b[0marray\u001b[0m \u001b[0;34m=\u001b[0m \u001b[0mnp\u001b[0m\u001b[0;34m.\u001b[0m\u001b[0marray\u001b[0m\u001b[0;34m(\u001b[0m\u001b[0marray\u001b[0m\u001b[0;34m,\u001b[0m \u001b[0mdtype\u001b[0m\u001b[0;34m=\u001b[0m\u001b[0mdtype\u001b[0m\u001b[0;34m,\u001b[0m \u001b[0morder\u001b[0m\u001b[0;34m=\u001b[0m\u001b[0morder\u001b[0m\u001b[0;34m,\u001b[0m \u001b[0mcopy\u001b[0m\u001b[0;34m=\u001b[0m\u001b[0mcopy\u001b[0m\u001b[0;34m)\u001b[0m\u001b[0;34m\u001b[0m\u001b[0m\n\u001b[0m\u001b[1;32m    434\u001b[0m \u001b[0;34m\u001b[0m\u001b[0m\n\u001b[1;32m    435\u001b[0m         \u001b[0;32mif\u001b[0m \u001b[0mensure_2d\u001b[0m\u001b[0;34m:\u001b[0m\u001b[0;34m\u001b[0m\u001b[0m\n",
      "\u001b[0;31mValueError\u001b[0m: could not convert string to float: '/zV8bHuSL6WXoD6FWogP9j4x80bL.jpg'"
     ]
    }
   ],
   "source": [
    "# Regression model here, plot your fit to the revenue data versus the actual data from the test set as a scatter plot.\n",
    "\n",
    "##### YOUR CODE HERE #######\n",
    "from sklearn import datasets, linear_model\n",
    "from sklearn.linear_model import LinearRegression\n",
    "from sklearn.metrics import mean_squared_error, r2_score\n",
    "import numpy as np\n",
    "\n",
    "regr = LinearRegression()\n",
    "regr.fit(X_train.budget, y_train)\n",
    "\n"
   ]
  },
  {
   "cell_type": "markdown",
   "metadata": {},
   "source": [
    "[4 Marks]\n",
    "# e\n",
    "\n",
    "Try a non-linear fit to the data, with and without regularization. Find your best fit and justify the choice of parameters, regularization constant and norm. Plot predicted revenue vs. actual revenue on the test set. In each case, quantify the error. (See e.g. Generalized linear models, Kernel Ridge regression, SVR and others from sklearn)"
   ]
  },
  {
   "cell_type": "code",
   "execution_count": 22,
   "metadata": {},
   "outputs": [],
   "source": [
    "##### YOUR CODE HERE WITHOUT REGULARIZATION #######"
   ]
  },
  {
   "cell_type": "code",
   "execution_count": 23,
   "metadata": {},
   "outputs": [],
   "source": [
    "##### YOUR CODE HERE WITH REGULARIZATION #######"
   ]
  },
  {
   "cell_type": "markdown",
   "metadata": {},
   "source": [
    "## Part 2 [10 Marks]\n",
    "\n",
    "[4 Marks]\n",
    "# a\n",
    "\n",
    "Write a simple version of the basic algorithm for k-means clustering. Simple here means the core of the algorithm and not optimizations or extensions you might find in standard python libraries. Typically you might rely on a standard library for doing this, but it helps to see the core by manipulating the data and labels by hand as practice for numerical python and how to frame the algorithm."
   ]
  },
  {
   "cell_type": "code",
   "execution_count": 24,
   "metadata": {},
   "outputs": [
    {
     "name": "stdout",
     "output_type": "stream",
     "text": [
      "[[2. 7.]\n",
      " [5. 2.]\n",
      " [4. 5.]\n",
      " [2. 0.]]\n"
     ]
    },
    {
     "data": {
      "image/png": "[encoded data removed]",
      "text/plain": [
       "<Figure size 432x288 with 1 Axes>"
      ]
     },
     "metadata": {},
     "output_type": "display_data"
    }
   ],
   "source": [
    "# Import packages\n",
    "%matplotlib inline\n",
    "import matplotlib.pyplot as plt\n",
    "import seaborn as sns; sns.set()  # for plot styling\n",
    "import numpy as np\n",
    "\n",
    "\n",
    "# Generate Samples\n",
    "from sklearn.datasets.samples_generator import make_blobs\n",
    "X, y_true = make_blobs(n_samples=300, centers=4,\n",
    "                       cluster_std=0.60, random_state=0)\n",
    "plt.scatter(X[:, 0], X[:, 1], s=50);\n",
    "\n",
    "###############################################\n",
    "# YOUR CODE GOES HERE\n",
    "# Put some code to find clusters here\n",
    "# Assign the clusters and labels in your code\n",
    "###############################################\n",
    "k =4\n",
    "\n",
    "clusterX = np.random.randint(0, np.max(X), size=k)\n",
    "clusterY = np.random.randint(0, np.max(X), size=k)\n",
    "c = np.array(list(zip(clusterX,clusterY)), dtype=np.float32)\n",
    "print(c)\n",
    "plt.scatter(clusterX, clusterY, marker='*', s=200, c='g')\n",
    "\n",
    "c_old = np.zeros(c.shape)\n",
    "\n",
    "\n",
    "\n",
    "# Uncomment to display clusters and cluster centers\n",
    "#plt.scatter(X[:, 0], X[:, 1], c=labels,\n",
    "            #s=50, cmap='viridis')\n",
    "#plt.scatter(centers[:, 0], centers[:, 1], c='black', s=200, alpha=0.5)"
   ]
  },
  {
   "cell_type": "markdown",
   "metadata": {},
   "source": [
    "<a id=\"data set\"></a>\n",
    "[6 Marks]\n",
    "# b\n",
    "\n",
    "Load the mystery data below, and cluster the data (you don't need to use your code from part a). Visualize the data including assigned cluster labels."
   ]
  },
  {
   "cell_type": "code",
   "execution_count": 48,
   "metadata": {
    "scrolled": true
   },
   "outputs": [
    {
     "data": {
      "text/plain": [
       "(30309, 784)"
      ]
     },
     "execution_count": 48,
     "metadata": {},
     "output_type": "execute_result"
    }
   ],
   "source": [
    "# Load the mystery data here and cluster using k-means (now you can use libraries e.g. sklearn)\n",
    "import numpy as np\n",
    "mystery = np.load('mystery.npy')\n",
    "mystery.shape\n"
   ]
  },
  {
   "cell_type": "code",
   "execution_count": 52,
   "metadata": {},
   "outputs": [
    {
     "name": "stderr",
     "output_type": "stream",
     "text": [
      "No handles with labels found to put in legend.\n"
     ]
    },
    {
     "name": "stdout",
     "output_type": "stream",
     "text": [
      "KMeans(algorithm='auto', copy_x=True, init='k-means++', max_iter=300,\n",
      "    n_clusters=5, n_init=10, n_jobs=1, precompute_distances='auto',\n",
      "    random_state=None, tol=0.0001, verbose=0)\n"
     ]
    },
    {
     "data": {
      "image/png": "[encoded data removed]",
      "text/plain": [
       "<Figure size 432x288 with 1 Axes>"
      ]
     },
     "metadata": {},
     "output_type": "display_data"
    }
   ],
   "source": [
    "# Find a way to visualize the data (e.g. in 2D or 3D), color datapoints based on assigned labels.\n",
    "from matplotlib import pyplot as plt\n",
    "from PIL import Image\n",
    "\n",
    "plt.xlim([-50,500])\n",
    "plt.ylim([-50,500])\n",
    "#plt.imshow(mystery, cmap='gray')\n",
    "X = np.matrix(mystery)\n",
    "kmeans = KMeans(n_clusters=5).fit(mystery)\n",
    "plt.scatter(mystery[:,0], mystery[:,1], s=5, cmap='viridis', alpha = 0.5)\n",
    "print(kmeans)\n",
    "\n",
    "plt.legend()\n",
    "plt.show()\n",
    "\n"
   ]
  },
  {
   "cell_type": "markdown",
   "metadata": {},
   "source": [
    "Based on the results above and any other analysis you wish to include, discuss how many clusters you see in the data.\n",
    "\n",
    "YOUR EXPLANATION HERE\n",
    "\n",
    "(any additional code supporting your assertion on the number of clusters may be included below)"
   ]
  },
  {
   "cell_type": "code",
   "execution_count": 64,
   "metadata": {},
   "outputs": [],
   "source": [
    "##### YOUR (OPTIONAL) CODE HERE #######"
   ]
  },
  {
   "cell_type": "markdown",
   "metadata": {},
   "source": [
    "[2 Marks]\n",
    "# Bonus"
   ]
  },
  {
   "cell_type": "markdown",
   "metadata": {},
   "source": [
    "What is the mystery data in part 2? Show this in markdown and code below."
   ]
  },
  {
   "cell_type": "markdown",
   "metadata": {},
   "source": [
    "EXPLANATION HERE, code goes below."
   ]
  },
  {
   "cell_type": "code",
   "execution_count": 28,
   "metadata": {},
   "outputs": [],
   "source": [
    "##### YOUR (OPTIONAL) CODE HERE #######"
   ]
  },
  {
   "cell_type": "markdown",
   "metadata": {},
   "source": [
    "[10 Marks]\n",
    "# CP 8318 Questions"
   ]
  },
  {
   "cell_type": "markdown",
   "metadata": {},
   "source": [
    "Describe how you might implement a solution to recommend new movies to a user based on their existing preferences or ratings from Part 1."
   ]
  },
  {
   "cell_type": "markdown",
   "metadata": {},
   "source": [
    "YOUR EXPLANATION HERE, provide an example for one user id below."
   ]
  },
  {
   "cell_type": "code",
   "execution_count": 29,
   "metadata": {},
   "outputs": [],
   "source": [
    "##### YOUR CODE HERE #######\n"
   ]
  },
  {
   "cell_type": "code",
   "execution_count": null,
   "metadata": {},
   "outputs": [],
   "source": []
  }
 ],
 "metadata": {
  "kernelspec": {
   "display_name": "Python 3",
   "language": "python",
   "name": "python3"
  },
  "language_info": {
   "codemirror_mode": {
    "name": "ipython",
    "version": 3
   },
   "file_extension": ".py",
   "mimetype": "text/x-python",
   "name": "python",
   "nbconvert_exporter": "python",
   "pygments_lexer": "ipython3",
   "version": "3.7.0"
  }
 },
 "nbformat": 4,
 "nbformat_minor": 2
}
